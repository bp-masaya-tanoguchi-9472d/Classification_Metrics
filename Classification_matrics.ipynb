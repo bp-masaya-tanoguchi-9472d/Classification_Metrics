{
 "cells": [
  {
   "cell_type": "markdown",
   "metadata": {},
   "source": [
    "## Classification_matrics"
   ]
  },
  {
   "cell_type": "markdown",
   "metadata": {},
   "source": [
    "- 確率値の校正\n",
    "- logLoss (balanced and imbalanced)\n",
    "- confusion matrix(混合行列)\n",
    "- TPR，FNR，TNR，FPR（誤ってposと判定した：negに対する比率）\n",
    "- accuracy(正解率), precision(適合率), recall(再現率), F値\n",
    "- roc curve and auc(area under curve)\n",
    "- pr curve and ap(average precision)\n",
    "- normalized entoropy(from facebook paper)"
   ]
  },
  {
   "cell_type": "code",
   "execution_count": 95,
   "metadata": {},
   "outputs": [],
   "source": [
    "import pandas as pd\n",
    "import numpy as np\n",
    "import matplotlib.pyplot as plt\n",
    "import pickle\n",
    "from sklearn import metrics\n",
    "import seaborn as sns"
   ]
  },
  {
   "cell_type": "markdown",
   "metadata": {},
   "source": [
    "#### Data loading"
   ]
  },
  {
   "cell_type": "code",
   "execution_count": 37,
   "metadata": {},
   "outputs": [],
   "source": [
    "train = pd.read_csv('created_data/train.csv',encoding='cp932')\n",
    "valid = pd.read_csv('created_data/valid.csv',encoding='cp932')\n",
    "test = pd.read_csv('created_data/test.csv',encoding='cp932')"
   ]
  },
  {
   "cell_type": "code",
   "execution_count": 38,
   "metadata": {},
   "outputs": [],
   "source": [
    "xtest = test.drop(['id','target'],axis=1).values\n",
    "ytest = test['target'].values"
   ]
  },
  {
   "cell_type": "markdown",
   "metadata": {},
   "source": [
    "#### Model loading\n",
    "- 今回は均一データに対する学習モデルを採用し，「確率値」と「LogLoss」の校正前後での変動を評価する．"
   ]
  },
  {
   "cell_type": "code",
   "execution_count": 39,
   "metadata": {},
   "outputs": [],
   "source": [
    "fn_model01 = 'model_balanced.sav'\n",
    "model = pickle.load(open(fn_model01, 'rb'))"
   ]
  },
  {
   "cell_type": "code",
   "execution_count": 40,
   "metadata": {},
   "outputs": [],
   "source": [
    "beta = 0.264990133076962"
   ]
  },
  {
   "cell_type": "markdown",
   "metadata": {},
   "source": [
    "#### （疑問）あれ？lightgbmのpredict(proba:binary)はラベル{0,1}のどちらの確率を算出しているんだっけ？\n",
    "- おそらく，{0,1}の1をposとし，割合を算出していると思う．のでthreshより高いほうを1とするのが正しい\n",
    "- http://data-analysis-stats.jp/2019/11/13/lightgbm%E3%81%AE%E8%A7%A3%E8%AA%AC/"
   ]
  },
  {
   "cell_type": "markdown",
   "metadata": {},
   "source": [
    "※ちなみに今回の検証では，少数クラスが1であり，クラス0をアンダーサンプルしている．  \n",
    "つまり，negであるクラス0をデータカットし，posであるクラス1の確率を算出しているため，negのデータ割合を使い，posの確率を校正する正しい計算が行われている．"
   ]
  },
  {
   "cell_type": "markdown",
   "metadata": {},
   "source": [
    "#### (1)Calculate \"prob_s\" and calibrated prob \"prob_c\""
   ]
  },
  {
   "cell_type": "code",
   "execution_count": 48,
   "metadata": {},
   "outputs": [],
   "source": [
    "probe_s = model.predict(xtest)\n",
    "probe_c = (beta*probe_s) / ((beta*probe_s) - probe_s + 1)"
   ]
  },
  {
   "cell_type": "code",
   "execution_count": 56,
   "metadata": {},
   "outputs": [
    {
     "data": {
      "image/png": "[encoded data removed]",
      "text/plain": [
       "<Figure size 432x288 with 1 Axes>"
      ]
     },
     "metadata": {
      "needs_background": "light"
     },
     "output_type": "display_data"
    },
    {
     "name": "stdout",
     "output_type": "stream",
     "text": [
      "not calib 0.321521103234933 calib 0.2033911578923052\n"
     ]
    }
   ],
   "source": [
    "plt.figure()\n",
    "plt.hist(probe_s,label='not calibrated',bins=100,alpha=0.5)\n",
    "plt.hist(probe_c,label='calibrated',bins=100,alpha=0.5)\n",
    "plt.legend()\n",
    "plt.show()\n",
    "print('not calib',np.mean(probe_s),'calib',np.mean(probe_c))"
   ]
  },
  {
   "cell_type": "markdown",
   "metadata": {},
   "source": [
    "#### (2) compare LogLoss"
   ]
  },
  {
   "cell_type": "code",
   "execution_count": 61,
   "metadata": {},
   "outputs": [],
   "source": [
    "def logloss(label,proba):#label(1)の確率が算出されている．\n",
    "    \n",
    "    N = len(label)\n",
    "    \n",
    "    proba1 = proba[label==1]\n",
    "    sum1 = np.sum(np.log(proba1))\n",
    "    \n",
    "    label0 = label[label==0]\n",
    "    proba0 = 1 - proba[label==0]\n",
    "    sum0 = np.sum(np.log(proba0))\n",
    "    \n",
    "    return -(sum1+sum0)/N"
   ]
  },
  {
   "cell_type": "code",
   "execution_count": 63,
   "metadata": {},
   "outputs": [
    {
     "name": "stdout",
     "output_type": "stream",
     "text": [
      "not calib 0.29752308704305264\n",
      "calib 0.23254721655714736\n"
     ]
    }
   ],
   "source": [
    "print('not calib',logloss(ytest,probe_s))\n",
    "print('calib',logloss(ytest,probe_c))"
   ]
  },
  {
   "cell_type": "markdown",
   "metadata": {},
   "source": [
    "これって校正後が下がるのが正しいのか？"
   ]
  },
  {
   "cell_type": "markdown",
   "metadata": {},
   "source": [
    "#### (3)confusion matrix（視点が事実）"
   ]
  },
  {
   "cell_type": "code",
   "execution_count": 71,
   "metadata": {},
   "outputs": [],
   "source": [
    "thresh = 0.2 #if proba >=0.2 label=1 else label=0\n",
    "n = len(probe_c)\n",
    "pred_label = np.zeros(n)\n",
    "for i in range(n):\n",
    "    if probe_c[i] > thresh:\n",
    "        pred_label[i] = 1\n",
    "    else:\n",
    "        pred_label[i] = 0"
   ]
  },
  {
   "cell_type": "markdown",
   "metadata": {},
   "source": [
    "※(pos = 1, neg = 0とする)  "
   ]
  },
  {
   "cell_type": "code",
   "execution_count": 93,
   "metadata": {},
   "outputs": [
    {
     "name": "stdout",
     "output_type": "stream",
     "text": [
      "69872 9137 2761 18230\n"
     ]
    }
   ],
   "source": [
    "p = pred_label[ytest==1]\n",
    "n = pred_label[ytest==0]\n",
    "\n",
    "tp = p[p==1].shape[0]\n",
    "fn = p[p==0].shape[0]\n",
    "tn = n[n==0].shape[0]\n",
    "fp = n[n==1].shape[0]\n",
    "print(tn,fp,fn,tp)"
   ]
  },
  {
   "cell_type": "code",
   "execution_count": 98,
   "metadata": {},
   "outputs": [
    {
     "name": "stdout",
     "output_type": "stream",
     "text": [
      "69872 9137 2761 18230\n"
     ]
    }
   ],
   "source": [
    "cm= metrics.confusion_matrix(ytest,pred_label)\n",
    "tn, fp, fn, tp = cm.ravel()\n",
    "print(tn,fp,fn,tp)"
   ]
  },
  {
   "cell_type": "markdown",
   "metadata": {},
   "source": [
    "binary{0,1}の場合，sklearn.metrics.confusion_matrix()は，{1}をposとした上記コードの対応関係を持っているはず．"
   ]
  },
  {
   "cell_type": "code",
   "execution_count": 105,
   "metadata": {},
   "outputs": [
    {
     "data": {
      "text/plain": [
       "<matplotlib.axes._subplots.AxesSubplot at 0x2b0f0300808>"
      ]
     },
     "execution_count": 105,
     "metadata": {},
     "output_type": "execute_result"
    },
    {
     "data": {
      "image/png": "[encoded data removed]",
      "text/plain": [
       "<Figure size 432x288 with 2 Axes>"
      ]
     },
     "metadata": {
      "needs_background": "light"
     },
     "output_type": "display_data"
    }
   ],
   "source": [
    "sns.heatmap(cm,annot=True,label=['neg','pos'])"
   ]
  },
  {
   "cell_type": "markdown",
   "metadata": {},
   "source": [
    "#### (4)TPR，FNR，TNR，FPR（視点が予測）"
   ]
  },
  {
   "cell_type": "code",
   "execution_count": 107,
   "metadata": {},
   "outputs": [],
   "source": [
    "tpr = tp / (tp + fn)\n",
    "fnr = fn / (tp + fn)\n",
    "tnr = tn / (tn + fp)\n",
    "fpr = fp / (tn + fp)"
   ]
  },
  {
   "cell_type": "markdown",
   "metadata": {},
   "source": [
    "#### (5) other metrics"
   ]
  },
  {
   "cell_type": "code",
   "execution_count": 113,
   "metadata": {},
   "outputs": [
    {
     "name": "stdout",
     "output_type": "stream",
     "text": [
      "0.88102 0.6661307414038806 0.868467438425992 wait\n"
     ]
    }
   ],
   "source": [
    "acc = (tp + tn) / (tp + fn + fp + tn)\n",
    "precision = tp / (tp + fp)\n",
    "recall = tp / (tp + fn)\n",
    "F = \"wait\"\n",
    "print(acc, precision, recall, F)"
   ]
  },
  {
   "cell_type": "markdown",
   "metadata": {},
   "source": [
    "#### (6) ROC curve (TPR vs FPR)\n",
    "- 正しくposと言った割合 vs 誤ってposと言った割合：pos negの双方のデータを考慮"
   ]
  },
  {
   "cell_type": "code",
   "execution_count": 121,
   "metadata": {},
   "outputs": [],
   "source": [
    "FPR, TPR, Thresh = metrics.roc_curve(ytest,probe_c)\n",
    "ROC_AUC = metrics.roc_auc_score(ytest,probe_c)"
   ]
  },
  {
   "cell_type": "code",
   "execution_count": 122,
   "metadata": {},
   "outputs": [
    {
     "data": {
      "image/png": "[encoded data removed]",
      "text/plain": [
       "<Figure size 432x288 with 1 Axes>"
      ]
     },
     "metadata": {
      "needs_background": "light"
     },
     "output_type": "display_data"
    }
   ],
   "source": [
    "plt.figure()\n",
    "plt.title('AUC=%s'%ROC_AUC )\n",
    "plt.plot(FPR, TPR)\n",
    "plt.xlabel('FPR')\n",
    "plt.ylabel('TPR')\n",
    "plt.show()"
   ]
  },
  {
   "cell_type": "markdown",
   "metadata": {},
   "source": [
    "#### (7) Presison - Recall curve "
   ]
  },
  {
   "cell_type": "code",
   "execution_count": 128,
   "metadata": {},
   "outputs": [],
   "source": [
    "precision, recall, thresholds = metrics.precision_recall_curve(ytest,probe_c,pos_label=1)\n",
    "AP = metrics.average_precision_score(ytest,probe_c,pos_label=1) # Average precision"
   ]
  },
  {
   "cell_type": "code",
   "execution_count": 129,
   "metadata": {},
   "outputs": [
    {
     "data": {
      "image/png": "[encoded data removed]",
      "text/plain": [
       "<Figure size 432x288 with 1 Axes>"
      ]
     },
     "metadata": {
      "needs_background": "light"
     },
     "output_type": "display_data"
    }
   ],
   "source": [
    "plt.figure()\n",
    "plt.title('AP=%s'%AP )\n",
    "plt.plot(recall,precision)\n",
    "plt.xlabel('Recall')\n",
    "plt.ylabel('Precision')\n",
    "plt.show()"
   ]
  },
  {
   "cell_type": "markdown",
   "metadata": {},
   "source": [
    "※AP < AUCですね．APの方が不均一化における評価として厳密ですね．"
   ]
  },
  {
   "cell_type": "markdown",
   "metadata": {},
   "source": [
    "#### (8) Normalized Entropy"
   ]
  },
  {
   "cell_type": "code",
   "execution_count": 135,
   "metadata": {},
   "outputs": [],
   "source": [
    "def NE(label,proba):#label(1)の確率が算出されている．\n",
    "    #logloss\n",
    "    N = len(label)\n",
    "    proba1 = proba[label==1]\n",
    "    sum1 = np.sum(np.log(proba1))\n",
    "    \n",
    "    label0 = label[label==0]\n",
    "    proba0 = 1 - proba[label==0]\n",
    "    sum0 = np.sum(np.log(proba0))\n",
    "    \n",
    "    logloss = -(sum1+sum0)/N\n",
    "    \n",
    "    #NE\n",
    "    p = np.mean(proba)\n",
    "    deno = - ( p * np.log(p) + (1-p) * np.log(1 - p) )\n",
    "    return logloss/deno"
   ]
  },
  {
   "cell_type": "code",
   "execution_count": 137,
   "metadata": {},
   "outputs": [],
   "source": [
    "NE = NE(ytest,probe_c)"
   ]
  },
  {
   "cell_type": "markdown",
   "metadata": {},
   "source": [
    "#### 参照  \n",
    "- https://pompom168.hatenablog.com/entry/2019/04/11/080000\n",
    "- https://pompom168.hatenablog.com/entry/2019/07/22/113433\n",
    "- https://research.fb.com/wp-content/uploads/2016/11/practical-lessons-from-predicting-clicks-on-ads-at-facebook.pdf"
   ]
  },
  {
   "cell_type": "code",
   "execution_count": null,
   "metadata": {},
   "outputs": [],
   "source": []
  }
 ],
 "metadata": {
  "kernelspec": {
   "display_name": "Python 3",
   "language": "python",
   "name": "python3"
  },
  "language_info": {
   "codemirror_mode": {
    "name": "ipython",
    "version": 3
   },
   "file_extension": ".py",
   "mimetype": "text/x-python",
   "name": "python",
   "nbconvert_exporter": "python",
   "pygments_lexer": "ipython3",
   "version": "3.7.6"
  }
 },
 "nbformat": 4,
 "nbformat_minor": 4
}
